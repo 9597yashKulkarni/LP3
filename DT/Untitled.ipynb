{
 "cells": [
  {
   "cell_type": "code",
   "execution_count": 1,
   "metadata": {},
   "outputs": [
    {
     "data": {
      "text/plain": [
       "0.75"
      ]
     },
     "execution_count": 1,
     "metadata": {},
     "output_type": "execute_result"
    }
   ],
   "source": [
    "import graphviz\n",
    "import pandas as pd\n",
    "import numpy as np\n",
    "dataset =pd.read_csv(\"assign2Dataset.csv\")\n",
    "x=dataset.iloc[:,[1,2,3,4]].values\n",
    "y=dataset.iloc[:,-1].values\n",
    "from sklearn.preprocessing import LabelEncoder,OneHotEncoder\n",
    "encoder=LabelEncoder()\n",
    "x[:,0]=encoder.fit_transform(x[:,0])\n",
    "x[:,1]=encoder.fit_transform(x[:,1])\n",
    "x[:,2]=encoder.fit_transform(x[:,2])\n",
    "x[:,3]=encoder.fit_transform(x[:,3])\n",
    "from sklearn.model_selection import train_test_split\n",
    "x_train, x_test, y_train, y_test = train_test_split(x,y, test_size=0.25, random_state=1)\n",
    "from sklearn.tree import DecisionTreeClassifier\n",
    "classifier = DecisionTreeClassifier()\n",
    "classifier = classifier.fit(x_train, y_train)\n",
    "pred = classifier.predict(x_test)\n",
    "from sklearn.metrics import accuracy_score\n",
    "accuracy_score(y_test, pred)"
   ]
  },
  {
   "cell_type": "code",
   "execution_count": null,
   "metadata": {},
   "outputs": [],
   "source": []
  }
 ],
 "metadata": {
  "kernelspec": {
   "display_name": "Python 3",
   "language": "python",
   "name": "python3"
  },
  "language_info": {
   "codemirror_mode": {
    "name": "ipython",
    "version": 3
   },
   "file_extension": ".py",
   "mimetype": "text/x-python",
   "name": "python",
   "nbconvert_exporter": "python",
   "pygments_lexer": "ipython3",
   "version": "3.6.5"
  }
 },
 "nbformat": 4,
 "nbformat_minor": 2
}
