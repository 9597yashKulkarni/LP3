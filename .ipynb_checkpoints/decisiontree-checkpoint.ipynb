{
  "cells": [
    {
      "metadata": {
        "trusted": true
      },
      "cell_type": "code",
      "source": "import graphviz",
      "execution_count": 40,
      "outputs": []
    },
    {
      "metadata": {
        "trusted": true
      },
      "cell_type": "code",
      "source": "import pandas as pd\nimport numpy as np\n",
      "execution_count": 8,
      "outputs": []
    },
    {
      "metadata": {
        "trusted": true
      },
      "cell_type": "code",
      "source": "df =pd.read_csv(\"ass2Dataset.csv\")\nfrom sklearn.preprocessing import LabelEncoder,OneHotEncoder\na27=LabelEncoder()\ndf.iloc[:,1]=a27.fit_transform(df.iloc[:,1])\ndf.iloc[:,2]=a27.fit_transform(df.iloc[:,2])\ndf.iloc[:,3]=a27.fit_transform(df.iloc[:,3])\ndf.iloc[:,4]=a27.fit_transform(df.iloc[:,4])\ndf.iloc[:,5]=a27.fit_transform(df.iloc[:,5])",
      "execution_count": 33,
      "outputs": []
    },
    {
      "metadata": {
        "trusted": true
      },
      "cell_type": "code",
      "source": "df",
      "execution_count": 34,
      "outputs": [
        {
          "output_type": "execute_result",
          "execution_count": 34,
          "data": {
            "text/html": "<div>\n<style scoped>\n    .dataframe tbody tr th:only-of-type {\n        vertical-align: middle;\n    }\n\n    .dataframe tbody tr th {\n        vertical-align: top;\n    }\n\n    .dataframe thead th {\n        text-align: right;\n    }\n</style>\n<table border=\"1\" class=\"dataframe\">\n  <thead>\n    <tr style=\"text-align: right;\">\n      <th></th>\n      <th>id</th>\n      <th>age</th>\n      <th>income</th>\n      <th>gender</th>\n      <th>maritial status</th>\n      <th>buys</th>\n    </tr>\n  </thead>\n  <tbody>\n    <tr>\n      <th>0</th>\n      <td>1</td>\n      <td>1</td>\n      <td>0</td>\n      <td>1</td>\n      <td>1</td>\n      <td>0</td>\n    </tr>\n    <tr>\n      <th>1</th>\n      <td>2</td>\n      <td>1</td>\n      <td>0</td>\n      <td>1</td>\n      <td>0</td>\n      <td>0</td>\n    </tr>\n    <tr>\n      <th>2</th>\n      <td>3</td>\n      <td>0</td>\n      <td>0</td>\n      <td>1</td>\n      <td>1</td>\n      <td>1</td>\n    </tr>\n    <tr>\n      <th>3</th>\n      <td>4</td>\n      <td>2</td>\n      <td>2</td>\n      <td>1</td>\n      <td>1</td>\n      <td>1</td>\n    </tr>\n    <tr>\n      <th>4</th>\n      <td>5</td>\n      <td>2</td>\n      <td>1</td>\n      <td>0</td>\n      <td>1</td>\n      <td>1</td>\n    </tr>\n    <tr>\n      <th>5</th>\n      <td>6</td>\n      <td>2</td>\n      <td>1</td>\n      <td>0</td>\n      <td>0</td>\n      <td>0</td>\n    </tr>\n    <tr>\n      <th>6</th>\n      <td>7</td>\n      <td>0</td>\n      <td>1</td>\n      <td>0</td>\n      <td>0</td>\n      <td>1</td>\n    </tr>\n    <tr>\n      <th>7</th>\n      <td>8</td>\n      <td>1</td>\n      <td>2</td>\n      <td>1</td>\n      <td>1</td>\n      <td>0</td>\n    </tr>\n    <tr>\n      <th>8</th>\n      <td>9</td>\n      <td>1</td>\n      <td>1</td>\n      <td>0</td>\n      <td>0</td>\n      <td>1</td>\n    </tr>\n    <tr>\n      <th>9</th>\n      <td>10</td>\n      <td>2</td>\n      <td>2</td>\n      <td>0</td>\n      <td>1</td>\n      <td>1</td>\n    </tr>\n    <tr>\n      <th>10</th>\n      <td>11</td>\n      <td>1</td>\n      <td>2</td>\n      <td>0</td>\n      <td>0</td>\n      <td>1</td>\n    </tr>\n    <tr>\n      <th>11</th>\n      <td>12</td>\n      <td>0</td>\n      <td>2</td>\n      <td>1</td>\n      <td>0</td>\n      <td>1</td>\n    </tr>\n    <tr>\n      <th>12</th>\n      <td>13</td>\n      <td>0</td>\n      <td>0</td>\n      <td>0</td>\n      <td>1</td>\n      <td>1</td>\n    </tr>\n    <tr>\n      <th>13</th>\n      <td>14</td>\n      <td>2</td>\n      <td>2</td>\n      <td>1</td>\n      <td>0</td>\n      <td>0</td>\n    </tr>\n  </tbody>\n</table>\n</div>",
            "text/plain": "    id   age  income   gender  maritial status  buys\n0     1    1        0       1                1     0\n1     2    1        0       1                0     0\n2     3    0        0       1                1     1\n3     4    2        2       1                1     1\n4     5    2        1       0                1     1\n5     6    2        1       0                0     0\n6     7    0        1       0                0     1\n7     8    1        2       1                1     0\n8     9    1        1       0                0     1\n9    10    2        2       0                1     1\n10   11    1        2       0                0     1\n11   12    0        2       1                0     1\n12   13    0        0       0                1     1\n13   14    2        2       1                0     0"
          },
          "metadata": {}
        }
      ]
    },
    {
      "metadata": {
        "trusted": true
      },
      "cell_type": "code",
      "source": "from sklearn.model_selection import train_test_split\nX_train, X_test, y_train, y_test = train_test_split(df.iloc[:,1:5], df.iloc[:,5], test_size=0.33, random_state=42)",
      "execution_count": 35,
      "outputs": []
    },
    {
      "metadata": {
        "trusted": true
      },
      "cell_type": "code",
      "source": "clf = tree.DecisionTreeClassifier()\nclf = clf.fit(X_train, y_train)",
      "execution_count": 36,
      "outputs": []
    },
    {
      "metadata": {
        "trusted": true
      },
      "cell_type": "code",
      "source": "pred = clf.predict(X_test)",
      "execution_count": 37,
      "outputs": []
    },
    {
      "metadata": {
        "trusted": true
      },
      "cell_type": "code",
      "source": "from sklearn.metrics import accuracy_score",
      "execution_count": 38,
      "outputs": []
    },
    {
      "metadata": {
        "trusted": true
      },
      "cell_type": "code",
      "source": "accuracy_score(y_test, pred)",
      "execution_count": 39,
      "outputs": [
        {
          "output_type": "execute_result",
          "execution_count": 39,
          "data": {
            "text/plain": "0.4"
          },
          "metadata": {}
        }
      ]
    },
    {
      "metadata": {
        "trusted": true
      },
      "cell_type": "code",
      "source": "dot_data = tree.export_graphviz(clf, out_file=None) \ngraph = graphviz.Source(dot_data) \ngraph.render(\"df\") ",
      "execution_count": 41,
      "outputs": [
        {
          "output_type": "execute_result",
          "execution_count": 41,
          "data": {
            "text/plain": "'df.pdf'"
          },
          "metadata": {}
        }
      ]
    },
    {
      "metadata": {
        "trusted": true
      },
      "cell_type": "code",
      "source": "dot_data = tree.export_graphviz(clf, out_file=None, feature_names=['age', 'income ', 'gender', 'maritial status'], class_names=['yes','no'], filled=True, rounded=True,special_characters=True)\ngraph = graphviz.Source(dot_data)   \ngraph ",
      "execution_count": 57,
      "outputs": [
        {
          "output_type": "execute_result",
          "execution_count": 57,
          "data": {
            "text/plain": "<graphviz.files.Source at 0x7f68a7d71be0>",
            "image/svg+xml": "<?xml version=\"1.0\" encoding=\"UTF-8\" standalone=\"no\"?>\n<!DOCTYPE svg PUBLIC \"-//W3C//DTD SVG 1.1//EN\"\n \"http://www.w3.org/Graphics/SVG/1.1/DTD/svg11.dtd\">\n<!-- Generated by graphviz version 2.38.0 (20140413.2041)\n -->\n<!-- Title: Tree Pages: 1 -->\n<svg width=\"405pt\" height=\"552pt\"\n viewBox=\"0.00 0.00 405.00 552.00\" xmlns=\"http://www.w3.org/2000/svg\" xmlns:xlink=\"http://www.w3.org/1999/xlink\">\n<g id=\"graph0\" class=\"graph\" transform=\"scale(1 1) rotate(0) translate(4 548)\">\n<title>Tree</title>\n<polygon fill=\"white\" stroke=\"none\" points=\"-4,4 -4,-548 401,-548 401,4 -4,4\"/>\n<!-- 0 -->\n<g id=\"node1\" class=\"node\"><title>0</title>\n<path fill=\"#399de5\" fill-opacity=\"0.498039\" stroke=\"black\" d=\"M149,-544C149,-544 78,-544 78,-544 72,-544 66,-538 66,-532 66,-532 66,-473 66,-473 66,-467 72,-461 78,-461 78,-461 149,-461 149,-461 155,-461 161,-467 161,-473 161,-473 161,-532 161,-532 161,-538 155,-544 149,-544\"/>\n<text text-anchor=\"start\" x=\"75\" y=\"-528.8\" font-family=\"Helvetica,sans-Serif\" font-size=\"14.00\">gender ≤ 0.5</text>\n<text text-anchor=\"start\" x=\"78\" y=\"-513.8\" font-family=\"Helvetica,sans-Serif\" font-size=\"14.00\">gini = 0.444</text>\n<text text-anchor=\"start\" x=\"76\" y=\"-498.8\" font-family=\"Helvetica,sans-Serif\" font-size=\"14.00\">samples = 9</text>\n<text text-anchor=\"start\" x=\"74\" y=\"-483.8\" font-family=\"Helvetica,sans-Serif\" font-size=\"14.00\">value = [3, 6]</text>\n<text text-anchor=\"start\" x=\"82.5\" y=\"-468.8\" font-family=\"Helvetica,sans-Serif\" font-size=\"14.00\">class = no</text>\n</g>\n<!-- 1 -->\n<g id=\"node2\" class=\"node\"><title>1</title>\n<path fill=\"#399de5\" stroke=\"black\" d=\"M83,-417.5C83,-417.5 12,-417.5 12,-417.5 6,-417.5 0,-411.5 0,-405.5 0,-405.5 0,-361.5 0,-361.5 0,-355.5 6,-349.5 12,-349.5 12,-349.5 83,-349.5 83,-349.5 89,-349.5 95,-355.5 95,-361.5 95,-361.5 95,-405.5 95,-405.5 95,-411.5 89,-417.5 83,-417.5\"/>\n<text text-anchor=\"start\" x=\"19.5\" y=\"-402.3\" font-family=\"Helvetica,sans-Serif\" font-size=\"14.00\">gini = 0.0</text>\n<text text-anchor=\"start\" x=\"10\" y=\"-387.3\" font-family=\"Helvetica,sans-Serif\" font-size=\"14.00\">samples = 4</text>\n<text text-anchor=\"start\" x=\"8\" y=\"-372.3\" font-family=\"Helvetica,sans-Serif\" font-size=\"14.00\">value = [0, 4]</text>\n<text text-anchor=\"start\" x=\"16.5\" y=\"-357.3\" font-family=\"Helvetica,sans-Serif\" font-size=\"14.00\">class = no</text>\n</g>\n<!-- 0&#45;&gt;1 -->\n<g id=\"edge1\" class=\"edge\"><title>0&#45;&gt;1</title>\n<path fill=\"none\" stroke=\"black\" d=\"M90.6016,-460.907C84.3148,-449.763 77.4866,-437.658 71.158,-426.439\"/>\n<polygon fill=\"black\" stroke=\"black\" points=\"74.1712,-424.657 66.2096,-417.667 68.0744,-428.096 74.1712,-424.657\"/>\n<text text-anchor=\"middle\" x=\"59.4981\" y=\"-438.049\" font-family=\"Helvetica,sans-Serif\" font-size=\"14.00\">True</text>\n</g>\n<!-- 2 -->\n<g id=\"node3\" class=\"node\"><title>2</title>\n<path fill=\"#e58139\" fill-opacity=\"0.333333\" stroke=\"black\" d=\"M236,-425C236,-425 125,-425 125,-425 119,-425 113,-419 113,-413 113,-413 113,-354 113,-354 113,-348 119,-342 125,-342 125,-342 236,-342 236,-342 242,-342 248,-348 248,-354 248,-354 248,-413 248,-413 248,-419 242,-425 236,-425\"/>\n<text text-anchor=\"start\" x=\"121\" y=\"-409.8\" font-family=\"Helvetica,sans-Serif\" font-size=\"14.00\">maritial status ≤ 0.5</text>\n<text text-anchor=\"start\" x=\"148.5\" y=\"-394.8\" font-family=\"Helvetica,sans-Serif\" font-size=\"14.00\">gini = 0.48</text>\n<text text-anchor=\"start\" x=\"143\" y=\"-379.8\" font-family=\"Helvetica,sans-Serif\" font-size=\"14.00\">samples = 5</text>\n<text text-anchor=\"start\" x=\"141\" y=\"-364.8\" font-family=\"Helvetica,sans-Serif\" font-size=\"14.00\">value = [3, 2]</text>\n<text text-anchor=\"start\" x=\"146.5\" y=\"-349.8\" font-family=\"Helvetica,sans-Serif\" font-size=\"14.00\">class = yes</text>\n</g>\n<!-- 0&#45;&gt;2 -->\n<g id=\"edge2\" class=\"edge\"><title>0&#45;&gt;2</title>\n<path fill=\"none\" stroke=\"black\" d=\"M136.745,-460.907C141.734,-452.195 147.059,-442.897 152.215,-433.893\"/>\n<polygon fill=\"black\" stroke=\"black\" points=\"155.364,-435.438 157.296,-425.021 149.289,-431.959 155.364,-435.438\"/>\n<text text-anchor=\"middle\" x=\"163.852\" y=\"-445.446\" font-family=\"Helvetica,sans-Serif\" font-size=\"14.00\">False</text>\n</g>\n<!-- 3 -->\n<g id=\"node4\" class=\"node\"><title>3</title>\n<path fill=\"#e58139\" stroke=\"black\" d=\"M158,-298.5C158,-298.5 87,-298.5 87,-298.5 81,-298.5 75,-292.5 75,-286.5 75,-286.5 75,-242.5 75,-242.5 75,-236.5 81,-230.5 87,-230.5 87,-230.5 158,-230.5 158,-230.5 164,-230.5 170,-236.5 170,-242.5 170,-242.5 170,-286.5 170,-286.5 170,-292.5 164,-298.5 158,-298.5\"/>\n<text text-anchor=\"start\" x=\"94.5\" y=\"-283.3\" font-family=\"Helvetica,sans-Serif\" font-size=\"14.00\">gini = 0.0</text>\n<text text-anchor=\"start\" x=\"85\" y=\"-268.3\" font-family=\"Helvetica,sans-Serif\" font-size=\"14.00\">samples = 2</text>\n<text text-anchor=\"start\" x=\"83\" y=\"-253.3\" font-family=\"Helvetica,sans-Serif\" font-size=\"14.00\">value = [2, 0]</text>\n<text text-anchor=\"start\" x=\"88.5\" y=\"-238.3\" font-family=\"Helvetica,sans-Serif\" font-size=\"14.00\">class = yes</text>\n</g>\n<!-- 2&#45;&gt;3 -->\n<g id=\"edge3\" class=\"edge\"><title>2&#45;&gt;3</title>\n<path fill=\"none\" stroke=\"black\" d=\"M160.377,-341.907C154.907,-330.873 148.971,-318.898 143.456,-307.773\"/>\n<polygon fill=\"black\" stroke=\"black\" points=\"146.519,-306.072 138.942,-298.667 140.247,-309.181 146.519,-306.072\"/>\n</g>\n<!-- 4 -->\n<g id=\"node5\" class=\"node\"><title>4</title>\n<path fill=\"#399de5\" fill-opacity=\"0.498039\" stroke=\"black\" d=\"M275,-306C275,-306 200,-306 200,-306 194,-306 188,-300 188,-294 188,-294 188,-235 188,-235 188,-229 194,-223 200,-223 200,-223 275,-223 275,-223 281,-223 287,-229 287,-235 287,-235 287,-294 287,-294 287,-300 281,-306 275,-306\"/>\n<text text-anchor=\"start\" x=\"196\" y=\"-290.8\" font-family=\"Helvetica,sans-Serif\" font-size=\"14.00\">income &#160;≤ 1.0</text>\n<text text-anchor=\"start\" x=\"202\" y=\"-275.8\" font-family=\"Helvetica,sans-Serif\" font-size=\"14.00\">gini = 0.444</text>\n<text text-anchor=\"start\" x=\"200\" y=\"-260.8\" font-family=\"Helvetica,sans-Serif\" font-size=\"14.00\">samples = 3</text>\n<text text-anchor=\"start\" x=\"198\" y=\"-245.8\" font-family=\"Helvetica,sans-Serif\" font-size=\"14.00\">value = [1, 2]</text>\n<text text-anchor=\"start\" x=\"206.5\" y=\"-230.8\" font-family=\"Helvetica,sans-Serif\" font-size=\"14.00\">class = no</text>\n</g>\n<!-- 2&#45;&gt;4 -->\n<g id=\"edge4\" class=\"edge\"><title>2&#45;&gt;4</title>\n<path fill=\"none\" stroke=\"black\" d=\"M200.276,-341.907C204.476,-333.286 208.956,-324.09 213.299,-315.175\"/>\n<polygon fill=\"black\" stroke=\"black\" points=\"216.526,-316.544 217.759,-306.021 210.233,-313.478 216.526,-316.544\"/>\n</g>\n<!-- 5 -->\n<g id=\"node6\" class=\"node\"><title>5</title>\n<path fill=\"#399de5\" stroke=\"black\" d=\"M216,-179.5C216,-179.5 145,-179.5 145,-179.5 139,-179.5 133,-173.5 133,-167.5 133,-167.5 133,-123.5 133,-123.5 133,-117.5 139,-111.5 145,-111.5 145,-111.5 216,-111.5 216,-111.5 222,-111.5 228,-117.5 228,-123.5 228,-123.5 228,-167.5 228,-167.5 228,-173.5 222,-179.5 216,-179.5\"/>\n<text text-anchor=\"start\" x=\"152.5\" y=\"-164.3\" font-family=\"Helvetica,sans-Serif\" font-size=\"14.00\">gini = 0.0</text>\n<text text-anchor=\"start\" x=\"143\" y=\"-149.3\" font-family=\"Helvetica,sans-Serif\" font-size=\"14.00\">samples = 1</text>\n<text text-anchor=\"start\" x=\"141\" y=\"-134.3\" font-family=\"Helvetica,sans-Serif\" font-size=\"14.00\">value = [0, 1]</text>\n<text text-anchor=\"start\" x=\"149.5\" y=\"-119.3\" font-family=\"Helvetica,sans-Serif\" font-size=\"14.00\">class = no</text>\n</g>\n<!-- 4&#45;&gt;5 -->\n<g id=\"edge5\" class=\"edge\"><title>4&#45;&gt;5</title>\n<path fill=\"none\" stroke=\"black\" d=\"M217.724,-222.907C212.348,-211.873 206.514,-199.898 201.094,-188.773\"/>\n<polygon fill=\"black\" stroke=\"black\" points=\"204.184,-187.124 196.658,-179.667 197.892,-190.19 204.184,-187.124\"/>\n</g>\n<!-- 6 -->\n<g id=\"node7\" class=\"node\"><title>6</title>\n<path fill=\"none\" stroke=\"black\" d=\"M329,-187C329,-187 258,-187 258,-187 252,-187 246,-181 246,-175 246,-175 246,-116 246,-116 246,-110 252,-104 258,-104 258,-104 329,-104 329,-104 335,-104 341,-110 341,-116 341,-116 341,-175 341,-175 341,-181 335,-187 329,-187\"/>\n<text text-anchor=\"start\" x=\"264.5\" y=\"-171.8\" font-family=\"Helvetica,sans-Serif\" font-size=\"14.00\">age ≤ 1.5</text>\n<text text-anchor=\"start\" x=\"265.5\" y=\"-156.8\" font-family=\"Helvetica,sans-Serif\" font-size=\"14.00\">gini = 0.5</text>\n<text text-anchor=\"start\" x=\"256\" y=\"-141.8\" font-family=\"Helvetica,sans-Serif\" font-size=\"14.00\">samples = 2</text>\n<text text-anchor=\"start\" x=\"254\" y=\"-126.8\" font-family=\"Helvetica,sans-Serif\" font-size=\"14.00\">value = [1, 1]</text>\n<text text-anchor=\"start\" x=\"259.5\" y=\"-111.8\" font-family=\"Helvetica,sans-Serif\" font-size=\"14.00\">class = yes</text>\n</g>\n<!-- 4&#45;&gt;6 -->\n<g id=\"edge6\" class=\"edge\"><title>4&#45;&gt;6</title>\n<path fill=\"none\" stroke=\"black\" d=\"M256.929,-222.907C261.055,-214.286 265.457,-205.09 269.724,-196.175\"/>\n<polygon fill=\"black\" stroke=\"black\" points=\"272.945,-197.552 274.105,-187.021 266.631,-194.53 272.945,-197.552\"/>\n</g>\n<!-- 7 -->\n<g id=\"node8\" class=\"node\"><title>7</title>\n<path fill=\"#e58139\" stroke=\"black\" d=\"M272,-68C272,-68 201,-68 201,-68 195,-68 189,-62 189,-56 189,-56 189,-12 189,-12 189,-6 195,-0 201,-0 201,-0 272,-0 272,-0 278,-0 284,-6 284,-12 284,-12 284,-56 284,-56 284,-62 278,-68 272,-68\"/>\n<text text-anchor=\"start\" x=\"208.5\" y=\"-52.8\" font-family=\"Helvetica,sans-Serif\" font-size=\"14.00\">gini = 0.0</text>\n<text text-anchor=\"start\" x=\"199\" y=\"-37.8\" font-family=\"Helvetica,sans-Serif\" font-size=\"14.00\">samples = 1</text>\n<text text-anchor=\"start\" x=\"197\" y=\"-22.8\" font-family=\"Helvetica,sans-Serif\" font-size=\"14.00\">value = [1, 0]</text>\n<text text-anchor=\"start\" x=\"202.5\" y=\"-7.8\" font-family=\"Helvetica,sans-Serif\" font-size=\"14.00\">class = yes</text>\n</g>\n<!-- 6&#45;&gt;7 -->\n<g id=\"edge7\" class=\"edge\"><title>6&#45;&gt;7</title>\n<path fill=\"none\" stroke=\"black\" d=\"M272.275,-103.726C267.765,-95.0615 262.994,-85.8962 258.457,-77.1802\"/>\n<polygon fill=\"black\" stroke=\"black\" points=\"261.556,-75.5537 253.834,-68.2996 255.347,-78.7859 261.556,-75.5537\"/>\n</g>\n<!-- 8 -->\n<g id=\"node9\" class=\"node\"><title>8</title>\n<path fill=\"#399de5\" stroke=\"black\" d=\"M385,-68C385,-68 314,-68 314,-68 308,-68 302,-62 302,-56 302,-56 302,-12 302,-12 302,-6 308,-0 314,-0 314,-0 385,-0 385,-0 391,-0 397,-6 397,-12 397,-12 397,-56 397,-56 397,-62 391,-68 385,-68\"/>\n<text text-anchor=\"start\" x=\"321.5\" y=\"-52.8\" font-family=\"Helvetica,sans-Serif\" font-size=\"14.00\">gini = 0.0</text>\n<text text-anchor=\"start\" x=\"312\" y=\"-37.8\" font-family=\"Helvetica,sans-Serif\" font-size=\"14.00\">samples = 1</text>\n<text text-anchor=\"start\" x=\"310\" y=\"-22.8\" font-family=\"Helvetica,sans-Serif\" font-size=\"14.00\">value = [0, 1]</text>\n<text text-anchor=\"start\" x=\"318.5\" y=\"-7.8\" font-family=\"Helvetica,sans-Serif\" font-size=\"14.00\">class = no</text>\n</g>\n<!-- 6&#45;&gt;8 -->\n<g id=\"edge8\" class=\"edge\"><title>6&#45;&gt;8</title>\n<path fill=\"none\" stroke=\"black\" d=\"M314.352,-103.726C318.737,-95.1527 323.372,-86.0891 327.788,-77.4555\"/>\n<polygon fill=\"black\" stroke=\"black\" points=\"331.033,-78.7965 332.47,-68.2996 324.801,-75.6092 331.033,-78.7965\"/>\n</g>\n</g>\n</svg>\n"
          },
          "metadata": {}
        }
      ]
    },
    {
      "metadata": {
        "trusted": true
      },
      "cell_type": "code",
      "source": "",
      "execution_count": null,
      "outputs": []
    }
  ],
  "metadata": {
    "kernelspec": {
      "name": "python36",
      "display_name": "Python 3.6",
      "language": "python"
    },
    "language_info": {
      "mimetype": "text/x-python",
      "nbconvert_exporter": "python",
      "name": "python",
      "pygments_lexer": "ipython3",
      "version": "3.6.6",
      "file_extension": ".py",
      "codemirror_mode": {
        "version": 3,
        "name": "ipython"
      }
    }
  },
  "nbformat": 4,
  "nbformat_minor": 2
}